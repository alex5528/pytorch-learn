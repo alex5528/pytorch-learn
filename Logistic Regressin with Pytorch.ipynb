{
 "cells": [
  {
   "cell_type": "markdown",
   "metadata": {
    "toc": true
   },
   "source": [
    "<h1>Table of Contents<span class=\"tocSkip\"></span></h1>\n",
    "<div class=\"toc\"><ul class=\"toc-item\"><li><span><a href=\"#Digits-Data\" data-toc-modified-id=\"Digits-Data-1\"><span class=\"toc-item-num\">1&nbsp;&nbsp;</span>Digits Data</a></span><ul class=\"toc-item\"><li><span><a href=\"#Show-data-sampe\" data-toc-modified-id=\"Show-data-sampe-1.1\"><span class=\"toc-item-num\">1.1&nbsp;&nbsp;</span>Show data sampe</a></span></li></ul></li><li><span><a href=\"#Pytorch-Linear-Regression\" data-toc-modified-id=\"Pytorch-Linear-Regression-2\"><span class=\"toc-item-num\">2&nbsp;&nbsp;</span>Pytorch Linear Regression</a></span><ul class=\"toc-item\"><li><span><a href=\"#Logistic-Regression-class\" data-toc-modified-id=\"Logistic-Regression-class-2.1\"><span class=\"toc-item-num\">2.1&nbsp;&nbsp;</span>Logistic Regression class</a></span></li><li><span><a href=\"#Train\" data-toc-modified-id=\"Train-2.2\"><span class=\"toc-item-num\">2.2&nbsp;&nbsp;</span>Train</a></span></li><li><span><a href=\"#Train-on-digits-data-set\" data-toc-modified-id=\"Train-on-digits-data-set-2.3\"><span class=\"toc-item-num\">2.3&nbsp;&nbsp;</span>Train on digits data set</a></span></li><li><span><a href=\"#Evaluate-digits\" data-toc-modified-id=\"Evaluate-digits-2.4\"><span class=\"toc-item-num\">2.4&nbsp;&nbsp;</span>Evaluate digits</a></span></li><li><span><a href=\"#Misclassified-examples\" data-toc-modified-id=\"Misclassified-examples-2.5\"><span class=\"toc-item-num\">2.5&nbsp;&nbsp;</span>Misclassified examples</a></span></li></ul></li><li><span><a href=\"#Logistic-Regression-with-sklearn\" data-toc-modified-id=\"Logistic-Regression-with-sklearn-3\"><span class=\"toc-item-num\">3&nbsp;&nbsp;</span>Logistic Regression with <code>sklearn</code></a></span></li></ul></div>"
   ]
  },
  {
   "cell_type": "code",
   "execution_count": 1,
   "metadata": {},
   "outputs": [],
   "source": [
    "# imports\n",
    "import pprint\n",
    "import numpy as np\n",
    "from matplotlib import pyplot as plt\n",
    "import seaborn as sns\n",
    "import torch\n",
    "from torch import nn, functional as F, optim\n",
    "from sklearn import datasets\n",
    "from sklearn.metrics import confusion_matrix, accuracy_score\n",
    "from sklearn.model_selection import train_test_split\n",
    "from sklearn.linear_model import LogisticRegression\n",
    "\n",
    "sns.set_style(\"white\")"
   ]
  },
  {
   "cell_type": "markdown",
   "metadata": {},
   "source": [
    "### Digits Data"
   ]
  },
  {
   "cell_type": "code",
   "execution_count": 2,
   "metadata": {
    "scrolled": true
   },
   "outputs": [
    {
     "name": "stdout",
     "output_type": "stream",
     "text": [
      "d.images.shape: (1797, 8, 8)\n",
      "d.target.shape: (1797,)\n"
     ]
    }
   ],
   "source": [
    "d = datasets.load_digits()\n",
    "print(\"d.images.shape: {}\\nd.target.shape: {}\".format(d.images.shape, d.target.shape))"
   ]
  },
  {
   "cell_type": "code",
   "execution_count": 3,
   "metadata": {},
   "outputs": [
    {
     "name": "stdout",
     "output_type": "stream",
     "text": [
      "('Optical Recognition of Handwritten Digits Data Set\\n'\n",
      " '===================================================\\n'\n",
      " '\\n'\n",
      " 'Notes\\n'\n",
      " '-----\\n'\n",
      " 'Data Set Characteristics:\\n'\n",
      " '    :Number of Instances: 5620\\n'\n",
      " '    :Number of Attributes: 64\\n'\n",
      " '    :Attribute Information: 8x8 image of integer pixels in the range 0..16.\\n'\n",
      " '    :Missing Attribute Values: None\\n'\n",
      " \"    :Creator: E. Alpaydin (alpaydin '@' boun.edu.tr)\\n\"\n",
      " '    :Date: July; 1998\\n'\n",
      " '\\n'\n",
      " 'This is a copy of the test set of the UCI ML hand-written digits datasets\\n'\n",
      " 'http://archive.ics.uci.edu/ml/datasets/Optical+Recognition+of+Handwritten+Digits\\n'\n",
      " '\\n'\n",
      " 'The data set contains images of hand-written digits: 10 classes where\\n'\n",
      " 'each class refers to a digit.\\n'\n",
      " '\\n'\n",
      " 'Preprocessing programs made available by NIST were used to extract\\n'\n",
      " 'normalized bitmaps of handwritten digits from a preprinted form. From a\\n'\n",
      " 'total of 43 people, 30 contributed to the training set and different 13\\n'\n",
      " 'to the test set. 32x32 bitmaps are divided into nonoverlapping blocks of\\n'\n",
      " '4x4 and the number of on pixels are counted in each block. This gene')\n"
     ]
    }
   ],
   "source": [
    "pprint.pprint(d.DESCR[:1000])"
   ]
  },
  {
   "cell_type": "code",
   "execution_count": 4,
   "metadata": {},
   "outputs": [],
   "source": [
    "def plot_digit_subplots(digit_imgs, labels, predictions=None):\n",
    "    n_col = min(10, len(digit_imgs))\n",
    "    n_row = max((len(digit_imgs) // n_col), 1)\n",
    "    fig, axs = plt.subplots(n_row, n_col, sharex=False, sharey=False)\n",
    "    axs = axs.reshape(n_row, -1)\n",
    "    fig.set_size_inches((10, 1.4 * n_row))\n",
    "    for i in range(n_col * n_row):\n",
    "        a = axs[i//n_col, i % n_col]\n",
    "        a.imshow(digit_imgs[i])\n",
    "        sub_title = \"Label: {}\".format(labels[i])\n",
    "        if predictions is not None:\n",
    "            sub_title = sub_title + \"\\nPredict: {}\".format(predictions[i])\n",
    "        a.set_title(sub_title)\n",
    "        a.set_axis_off()\n",
    "        a.axis(\"equal\")"
   ]
  },
  {
   "cell_type": "markdown",
   "metadata": {},
   "source": [
    "####  Show data sampe"
   ]
  },
  {
   "cell_type": "code",
   "execution_count": 5,
   "metadata": {},
   "outputs": [
    {
     "data": {
      "image/png": "[encoded data removed]",
      "text/plain": [
       "<Figure size 720x403.2 with 40 Axes>"
      ]
     },
     "metadata": {
      "needs_background": "light"
     },
     "output_type": "display_data"
    }
   ],
   "source": [
    "collage_size = 40\n",
    "rand_ind = np.random.randint(0, 1797, size=collage_size)\n",
    "plot_digit_subplots(d.images[rand_ind], d.target[rand_ind])"
   ]
  },
  {
   "cell_type": "markdown",
   "metadata": {},
   "source": [
    "### Pytorch Linear Regression"
   ]
  },
  {
   "cell_type": "markdown",
   "metadata": {},
   "source": [
    "#### Logistic Regression class"
   ]
  },
  {
   "cell_type": "code",
   "execution_count": 6,
   "metadata": {},
   "outputs": [],
   "source": [
    "class LogRegression(nn.Module):\n",
    "    def __init__(self, features_num, classes_num, fit_intercept=True):\n",
    "        super(LogRegression, self).__init__()\n",
    "        self.linear = nn.Linear(features_num, classes_num, bias=fit_intercept)\n",
    "    \n",
    "    def forward(self, x):\n",
    "        # just make weights * x + bias\n",
    "        return self.linear(x)"
   ]
  },
  {
   "cell_type": "markdown",
   "metadata": {},
   "source": [
    "#### Train"
   ]
  },
  {
   "cell_type": "code",
   "execution_count": 7,
   "metadata": {},
   "outputs": [],
   "source": [
    "def train_torch_log_regression(X, y, model, lr, epochs, X_val=None, y_val=None, verbose=True):\n",
    "    # set SGD optimizer with model weights and learning rate \n",
    "    optimizer = optim.SGD(model.parameters(), lr=lr, momentum=0.9)\n",
    "    losses, losses_val = [], []\n",
    "    accuracy, accuracy_val = [], []\n",
    "    cross_entropy = nn.CrossEntropyLoss()\n",
    "    for epoch in range(epochs):\n",
    "        # print(epoch)\n",
    "        optimizer.zero_grad()  # backward() function accumulates gradients\n",
    "        \n",
    "        # forward pass\n",
    "        probs = model(X)\n",
    "        probs_val = model(X_val) if X_val is not None else None\n",
    "        \n",
    "        # backward pass \n",
    "        loss_var = cross_entropy(probs, y)\n",
    "        loss_var_val = cross_entropy(probs_val, y_val) if X_val is not None else None\n",
    "        loss_var.backward()  # grads\n",
    "        optimizer.step()\n",
    "        \n",
    "        # losses save\n",
    "        losses.append(loss_var.item())\n",
    "        losses_val.append(loss_var_val.item()) if X_val is not None else None\n",
    "        \n",
    "        # accuracy save\n",
    "        accuracy.append(accuracy_from_probs(probs, y))\n",
    "        accuracy_val.append(accuracy_from_probs(probs_val, y_val))\n",
    "        if verbose and epoch % 10 == 0:\n",
    "            epoch_val_loss = loss_var_val.item() if X_val is not None else None\n",
    "            print(\"Epoch {:4d} | Train Loss: {:10.3f} | Val Loss: {:10.3f}\".\n",
    "                  format(epoch, loss_var.item(), epoch_val_loss))\n",
    "    return losses, losses_val, accuracy, accuracy_val\n",
    "\n",
    "def accuracy_from_probs(predicted_probs, y_true):\n",
    "    y_predicted = predicted_probs.argmax(dim=1)\n",
    "    accuracy = accuracy_score(y_true, y_predicted)\n",
    "    return accuracy"
   ]
  },
  {
   "cell_type": "markdown",
   "metadata": {},
   "source": [
    "#### Train on digits data set"
   ]
  },
  {
   "cell_type": "code",
   "execution_count": 8,
   "metadata": {},
   "outputs": [
    {
     "name": "stdout",
     "output_type": "stream",
     "text": [
      "X.shape: torch.Size([1797, 64]) \n",
      "y.shape: torch.Size([1797])\n"
     ]
    }
   ],
   "source": [
    "X = torch.tensor(data=d.data, dtype=torch.float32)\n",
    "y = torch.tensor(data=d.target, dtype=torch.long)\n",
    "\n",
    "print(\"X.shape: {} \\ny.shape: {}\".format(X.shape, y.shape))"
   ]
  },
  {
   "cell_type": "code",
   "execution_count": 9,
   "metadata": {
    "scrolled": true
   },
   "outputs": [
    {
     "name": "stdout",
     "output_type": "stream",
     "text": [
      "train size: 1437\n",
      "validation size: 360\n"
     ]
    }
   ],
   "source": [
    "# split train / validation\n",
    "tr_ind, val_ind = train_test_split(np.arange(len(y)), train_size=.8, test_size=.2)\n",
    "print(\"train size: {}\\nvalidation size: {}\".format(len(tr_ind), len(val_ind)))\n",
    "X_tr, X_val = X[tr_ind], X[val_ind]\n",
    "y_tr, y_val = y[tr_ind], y[val_ind]"
   ]
  },
  {
   "cell_type": "code",
   "execution_count": 10,
   "metadata": {},
   "outputs": [
    {
     "name": "stdout",
     "output_type": "stream",
     "text": [
      "Epoch    0 | Train Loss:      6.719 | Val Loss:      6.531\n",
      "Epoch   10 | Train Loss:     47.307 | Val Loss:     43.148\n",
      "Epoch   20 | Train Loss:      5.330 | Val Loss:      7.331\n",
      "Epoch   30 | Train Loss:      3.761 | Val Loss:      4.494\n",
      "Epoch   40 | Train Loss:      2.474 | Val Loss:      3.027\n",
      "Epoch   50 | Train Loss:      1.482 | Val Loss:      1.945\n",
      "Epoch   60 | Train Loss:      1.080 | Val Loss:      1.601\n",
      "Epoch   70 | Train Loss:      0.898 | Val Loss:      1.493\n",
      "Epoch   80 | Train Loss:      0.739 | Val Loss:      1.222\n",
      "Epoch   90 | Train Loss:      0.620 | Val Loss:      1.012\n",
      "Epoch  100 | Train Loss:      0.525 | Val Loss:      0.834\n",
      "Epoch  110 | Train Loss:      0.448 | Val Loss:      0.697\n",
      "Epoch  120 | Train Loss:      0.381 | Val Loss:      0.580\n",
      "Epoch  130 | Train Loss:      0.324 | Val Loss:      0.477\n",
      "Epoch  140 | Train Loss:      0.278 | Val Loss:      0.397\n",
      "Epoch  150 | Train Loss:      0.240 | Val Loss:      0.341\n",
      "Epoch  160 | Train Loss:      0.211 | Val Loss:      0.294\n",
      "Epoch  170 | Train Loss:      0.187 | Val Loss:      0.246\n",
      "Epoch  180 | Train Loss:      0.168 | Val Loss:      0.206\n",
      "Epoch  190 | Train Loss:      0.149 | Val Loss:      0.167\n",
      "Epoch  200 | Train Loss:      0.131 | Val Loss:      0.129\n",
      "Epoch  210 | Train Loss:      0.113 | Val Loss:      0.094\n",
      "Epoch  220 | Train Loss:      0.099 | Val Loss:      0.067\n",
      "Epoch  230 | Train Loss:      0.087 | Val Loss:      0.044\n",
      "Epoch  240 | Train Loss:      0.077 | Val Loss:      0.027\n",
      "Epoch  250 | Train Loss:      0.069 | Val Loss:      0.012\n",
      "Epoch  260 | Train Loss:      0.061 | Val Loss:      0.005\n",
      "Epoch  270 | Train Loss:      0.056 | Val Loss:      0.005\n",
      "Epoch  280 | Train Loss:      0.050 | Val Loss:      0.006\n",
      "Epoch  290 | Train Loss:      0.046 | Val Loss:      0.006\n"
     ]
    }
   ],
   "source": [
    "lr = .1\n",
    "epochs = 300\n",
    "\n",
    "model = LogRegression(features_num=X.shape[1], classes_num=10)\n",
    "losses, losses_val, acc, acc_val = train_torch_log_regression(X, y, model, lr, epochs, X_val, y_val)"
   ]
  },
  {
   "cell_type": "code",
   "execution_count": 11,
   "metadata": {
    "scrolled": true
   },
   "outputs": [
    {
     "data": {
      "image/png": "[encoded data removed]",
      "text/plain": [
       "<Figure size 720x360 with 1 Axes>"
      ]
     },
     "metadata": {
      "needs_background": "light"
     },
     "output_type": "display_data"
    }
   ],
   "source": [
    "plt.plot(acc, lw=3, alpha=.7, label=\"train\")\n",
    "plt.plot(acc_val, lw=2, alpha=.8, ls=\"-.\", label=\"validation\")\n",
    "plt.title(\"Accuracy during training\")\n",
    "plt.legend()\n",
    "plt.xlabel(\"#epoch\")\n",
    "plt.ylabel(\"accuracy\")\n",
    "fig = plt.gcf()\n",
    "fig.set_size_inches((10, 5))\n",
    "plt.show()"
   ]
  },
  {
   "cell_type": "markdown",
   "metadata": {},
   "source": [
    "#### Evaluate digits"
   ]
  },
  {
   "cell_type": "code",
   "execution_count": 12,
   "metadata": {},
   "outputs": [],
   "source": [
    "probs = model(X)\n",
    "predictions = probs.argmax(dim=1)"
   ]
  },
  {
   "cell_type": "code",
   "execution_count": 13,
   "metadata": {
    "scrolled": true
   },
   "outputs": [
    {
     "data": {
      "text/plain": [
       "array([[178,   0,   0,   0,   0,   0,   0,   0,   0,   0],\n",
       "       [  0, 182,   0,   0,   0,   0,   0,   0,   0,   0],\n",
       "       [  0,   0, 177,   0,   0,   0,   0,   0,   0,   0],\n",
       "       [  0,   0,   0, 183,   0,   0,   0,   0,   0,   0],\n",
       "       [  0,   0,   0,   0, 181,   0,   0,   0,   0,   0],\n",
       "       [  0,   0,   0,   0,   0, 181,   0,   0,   0,   1],\n",
       "       [  0,   0,   0,   0,   0,   0, 181,   0,   0,   0],\n",
       "       [  0,   0,   0,   0,   0,   0,   0, 179,   0,   0],\n",
       "       [  0,   1,   0,   0,   0,   0,   0,   0, 173,   0],\n",
       "       [  0,   0,   0,   0,   0,   0,   0,   0,   1, 179]])"
      ]
     },
     "execution_count": 13,
     "metadata": {},
     "output_type": "execute_result"
    }
   ],
   "source": [
    "confusion_matrix(d.target, predictions)"
   ]
  },
  {
   "cell_type": "code",
   "execution_count": 14,
   "metadata": {},
   "outputs": [
    {
     "data": {
      "text/plain": [
       "0.998330550918197"
      ]
     },
     "execution_count": 14,
     "metadata": {},
     "output_type": "execute_result"
    }
   ],
   "source": [
    "accuracy_score(d.target, predictions)"
   ]
  },
  {
   "cell_type": "markdown",
   "metadata": {},
   "source": [
    "#### Misclassified examples"
   ]
  },
  {
   "cell_type": "code",
   "execution_count": 15,
   "metadata": {},
   "outputs": [
    {
     "data": {
      "text/plain": [
       "array([   5, 1553, 1658])"
      ]
     },
     "execution_count": 15,
     "metadata": {},
     "output_type": "execute_result"
    }
   ],
   "source": [
    "# let's see misclassified examples\n",
    "predictions_np = predictions.numpy()\n",
    "misclass_ind = np.argwhere(predictions_np != d.target)\n",
    "misclass_ind = misclass_ind.flatten()\n",
    "misclass_ind"
   ]
  },
  {
   "cell_type": "code",
   "execution_count": 16,
   "metadata": {},
   "outputs": [
    {
     "data": {
      "image/png": "[encoded data removed]",
      "text/plain": [
       "<Figure size 720x100.8 with 3 Axes>"
      ]
     },
     "metadata": {
      "needs_background": "light"
     },
     "output_type": "display_data"
    }
   ],
   "source": [
    "plot_digit_subplots(d.images[misclass_ind], d.target[misclass_ind], predictions_np[misclass_ind])"
   ]
  },
  {
   "cell_type": "markdown",
   "metadata": {},
   "source": [
    "### Logistic Regression with `sklearn`"
   ]
  },
  {
   "cell_type": "code",
   "execution_count": 17,
   "metadata": {},
   "outputs": [
    {
     "data": {
      "text/plain": [
       "LogisticRegression(C=1, class_weight=None, dual=False, fit_intercept=True,\n",
       "          intercept_scaling=1, max_iter=100, multi_class='ovr', n_jobs=1,\n",
       "          penalty='l2', random_state=None, solver='liblinear', tol=0.0001,\n",
       "          verbose=0, warm_start=False)"
      ]
     },
     "execution_count": 17,
     "metadata": {},
     "output_type": "execute_result"
    }
   ],
   "source": [
    "model_sk = LogisticRegression(C=1)\n",
    "model_sk.fit(d.data, d.target)"
   ]
  },
  {
   "cell_type": "code",
   "execution_count": 18,
   "metadata": {},
   "outputs": [],
   "source": [
    "pred_sk = model_sk.predict(d.data)\n",
    "acc_sk = accuracy_score(d.target, pred_sk)"
   ]
  },
  {
   "cell_type": "code",
   "execution_count": 19,
   "metadata": {
    "scrolled": true
   },
   "outputs": [
    {
     "name": "stdout",
     "output_type": "stream",
     "text": [
      "0.993322203672788\n"
     ]
    }
   ],
   "source": [
    "print(acc_sk)"
   ]
  }
 ],
 "metadata": {
  "jupytext": {
   "formats": "ipynb,py:percent"
  },
  "kernelspec": {
   "display_name": "Python 3",
   "language": "python",
   "name": "python3"
  },
  "language_info": {
   "codemirror_mode": {
    "name": "ipython",
    "version": 3
   },
   "file_extension": ".py",
   "mimetype": "text/x-python",
   "name": "python",
   "nbconvert_exporter": "python",
   "pygments_lexer": "ipython3",
   "version": "3.6.8"
  },
  "toc": {
   "base_numbering": 1,
   "nav_menu": {},
   "number_sections": true,
   "sideBar": true,
   "skip_h1_title": false,
   "title_cell": "Table of Contents",
   "title_sidebar": "Contents",
   "toc_cell": true,
   "toc_position": {},
   "toc_section_display": true,
   "toc_window_display": true
  }
 },
 "nbformat": 4,
 "nbformat_minor": 2
}
